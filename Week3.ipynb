{
  "nbformat": 4,
  "nbformat_minor": 0,
  "metadata": {
    "colab": {
      "name": "Week3.ipynb",
      "provenance": [],
      "authorship_tag": "ABX9TyP/kCNk6gNMrtj3K8ngKP3C",
      "include_colab_link": true
    },
    "kernelspec": {
      "name": "python3",
      "display_name": "Python 3"
    }
  },
  "cells": [
    {
      "cell_type": "markdown",
      "metadata": {
        "id": "view-in-github",
        "colab_type": "text"
      },
      "source": [
        "<a href=\"https://colab.research.google.com/github/iaintageek/Coursera_Capstone/blob/master/Week3.ipynb\" target=\"_parent\"><img src=\"https://colab.research.google.com/assets/colab-badge.svg\" alt=\"Open In Colab\"/></a>"
      ]
    },
    {
      "cell_type": "markdown",
      "metadata": {
        "id": "ZymwYeVyUvG7",
        "colab_type": "text"
      },
      "source": [
        "Reading the table from the specified URL"
      ]
    },
    {
      "cell_type": "code",
      "metadata": {
        "id": "rT6pc75iQd78",
        "colab_type": "code",
        "colab": {}
      },
      "source": [
        "import pandas as pd\n",
        "url=\"https://en.wikipedia.org/wiki/List_of_postal_codes_of_Canada:_M\"\n",
        "table=pd.read_html(url)"
      ],
      "execution_count": 0,
      "outputs": []
    },
    {
      "cell_type": "code",
      "metadata": {
        "id": "xkgmsiC_Qp8q",
        "colab_type": "code",
        "colab": {
          "base_uri": "https://localhost:8080/",
          "height": 402
        },
        "outputId": "7bf86ab9-9a06-469f-813a-87ba2acb8157"
      },
      "source": [
        "df=table[0]\n",
        "df"
      ],
      "execution_count": 28,
      "outputs": [
        {
          "output_type": "execute_result",
          "data": {
            "text/html": [
              "<div>\n",
              "<style scoped>\n",
              "    .dataframe tbody tr th:only-of-type {\n",
              "        vertical-align: middle;\n",
              "    }\n",
              "\n",
              "    .dataframe tbody tr th {\n",
              "        vertical-align: top;\n",
              "    }\n",
              "\n",
              "    .dataframe thead th {\n",
              "        text-align: right;\n",
              "    }\n",
              "</style>\n",
              "<table border=\"1\" class=\"dataframe\">\n",
              "  <thead>\n",
              "    <tr style=\"text-align: right;\">\n",
              "      <th></th>\n",
              "      <th>Postcode</th>\n",
              "      <th>Borough</th>\n",
              "      <th>Neighbourhood</th>\n",
              "    </tr>\n",
              "  </thead>\n",
              "  <tbody>\n",
              "    <tr>\n",
              "      <th>0</th>\n",
              "      <td>M1A</td>\n",
              "      <td>Not assigned</td>\n",
              "      <td>Not assigned</td>\n",
              "    </tr>\n",
              "    <tr>\n",
              "      <th>1</th>\n",
              "      <td>M2A</td>\n",
              "      <td>Not assigned</td>\n",
              "      <td>Not assigned</td>\n",
              "    </tr>\n",
              "    <tr>\n",
              "      <th>2</th>\n",
              "      <td>M3A</td>\n",
              "      <td>North York</td>\n",
              "      <td>Parkwoods</td>\n",
              "    </tr>\n",
              "    <tr>\n",
              "      <th>3</th>\n",
              "      <td>M4A</td>\n",
              "      <td>North York</td>\n",
              "      <td>Victoria Village</td>\n",
              "    </tr>\n",
              "    <tr>\n",
              "      <th>4</th>\n",
              "      <td>M5A</td>\n",
              "      <td>Downtown Toronto</td>\n",
              "      <td>Harbourfront</td>\n",
              "    </tr>\n",
              "    <tr>\n",
              "      <th>...</th>\n",
              "      <td>...</td>\n",
              "      <td>...</td>\n",
              "      <td>...</td>\n",
              "    </tr>\n",
              "    <tr>\n",
              "      <th>282</th>\n",
              "      <td>M8Z</td>\n",
              "      <td>Etobicoke</td>\n",
              "      <td>Mimico NW</td>\n",
              "    </tr>\n",
              "    <tr>\n",
              "      <th>283</th>\n",
              "      <td>M8Z</td>\n",
              "      <td>Etobicoke</td>\n",
              "      <td>The Queensway West</td>\n",
              "    </tr>\n",
              "    <tr>\n",
              "      <th>284</th>\n",
              "      <td>M8Z</td>\n",
              "      <td>Etobicoke</td>\n",
              "      <td>Royal York South West</td>\n",
              "    </tr>\n",
              "    <tr>\n",
              "      <th>285</th>\n",
              "      <td>M8Z</td>\n",
              "      <td>Etobicoke</td>\n",
              "      <td>South of Bloor</td>\n",
              "    </tr>\n",
              "    <tr>\n",
              "      <th>286</th>\n",
              "      <td>M9Z</td>\n",
              "      <td>Not assigned</td>\n",
              "      <td>Not assigned</td>\n",
              "    </tr>\n",
              "  </tbody>\n",
              "</table>\n",
              "<p>287 rows × 3 columns</p>\n",
              "</div>"
            ],
            "text/plain": [
              "    Postcode           Borough          Neighbourhood\n",
              "0        M1A      Not assigned           Not assigned\n",
              "1        M2A      Not assigned           Not assigned\n",
              "2        M3A        North York              Parkwoods\n",
              "3        M4A        North York       Victoria Village\n",
              "4        M5A  Downtown Toronto           Harbourfront\n",
              "..       ...               ...                    ...\n",
              "282      M8Z         Etobicoke              Mimico NW\n",
              "283      M8Z         Etobicoke     The Queensway West\n",
              "284      M8Z         Etobicoke  Royal York South West\n",
              "285      M8Z         Etobicoke         South of Bloor\n",
              "286      M9Z      Not assigned           Not assigned\n",
              "\n",
              "[287 rows x 3 columns]"
            ]
          },
          "metadata": {
            "tags": []
          },
          "execution_count": 28
        }
      ]
    },
    {
      "cell_type": "markdown",
      "metadata": {
        "id": "dHpI0wR4Vipk",
        "colab_type": "text"
      },
      "source": [
        "If the Borough is not assigned, then remove"
      ]
    },
    {
      "cell_type": "markdown",
      "metadata": {
        "id": "_skqMjYuVf-m",
        "colab_type": "text"
      },
      "source": [
        ""
      ]
    },
    {
      "cell_type": "code",
      "metadata": {
        "id": "YwYLeqceQuHz",
        "colab_type": "code",
        "colab": {
          "base_uri": "https://localhost:8080/",
          "height": 195
        },
        "outputId": "44cac688-8d9b-4d44-cff4-8e5ec0ca6d2a"
      },
      "source": [
        "df = df[df.Borough != 'Not assigned']\n",
        "df.head() "
      ],
      "execution_count": 29,
      "outputs": [
        {
          "output_type": "execute_result",
          "data": {
            "text/html": [
              "<div>\n",
              "<style scoped>\n",
              "    .dataframe tbody tr th:only-of-type {\n",
              "        vertical-align: middle;\n",
              "    }\n",
              "\n",
              "    .dataframe tbody tr th {\n",
              "        vertical-align: top;\n",
              "    }\n",
              "\n",
              "    .dataframe thead th {\n",
              "        text-align: right;\n",
              "    }\n",
              "</style>\n",
              "<table border=\"1\" class=\"dataframe\">\n",
              "  <thead>\n",
              "    <tr style=\"text-align: right;\">\n",
              "      <th></th>\n",
              "      <th>Postcode</th>\n",
              "      <th>Borough</th>\n",
              "      <th>Neighbourhood</th>\n",
              "    </tr>\n",
              "  </thead>\n",
              "  <tbody>\n",
              "    <tr>\n",
              "      <th>2</th>\n",
              "      <td>M3A</td>\n",
              "      <td>North York</td>\n",
              "      <td>Parkwoods</td>\n",
              "    </tr>\n",
              "    <tr>\n",
              "      <th>3</th>\n",
              "      <td>M4A</td>\n",
              "      <td>North York</td>\n",
              "      <td>Victoria Village</td>\n",
              "    </tr>\n",
              "    <tr>\n",
              "      <th>4</th>\n",
              "      <td>M5A</td>\n",
              "      <td>Downtown Toronto</td>\n",
              "      <td>Harbourfront</td>\n",
              "    </tr>\n",
              "    <tr>\n",
              "      <th>5</th>\n",
              "      <td>M6A</td>\n",
              "      <td>North York</td>\n",
              "      <td>Lawrence Heights</td>\n",
              "    </tr>\n",
              "    <tr>\n",
              "      <th>6</th>\n",
              "      <td>M6A</td>\n",
              "      <td>North York</td>\n",
              "      <td>Lawrence Manor</td>\n",
              "    </tr>\n",
              "  </tbody>\n",
              "</table>\n",
              "</div>"
            ],
            "text/plain": [
              "  Postcode           Borough     Neighbourhood\n",
              "2      M3A        North York         Parkwoods\n",
              "3      M4A        North York  Victoria Village\n",
              "4      M5A  Downtown Toronto      Harbourfront\n",
              "5      M6A        North York  Lawrence Heights\n",
              "6      M6A        North York    Lawrence Manor"
            ]
          },
          "metadata": {
            "tags": []
          },
          "execution_count": 29
        }
      ]
    },
    {
      "cell_type": "markdown",
      "metadata": {
        "id": "yCzZm2q2VrQd",
        "colab_type": "text"
      },
      "source": [
        "Use groupby() to combine repetititve Boroughs and join them using a comma"
      ]
    },
    {
      "cell_type": "code",
      "metadata": {
        "id": "7eQ5xvFiQxwn",
        "colab_type": "code",
        "colab": {}
      },
      "source": [
        "df = df.groupby(['Postcode', 'Borough'], sort = False).agg(','.join)"
      ],
      "execution_count": 0,
      "outputs": []
    },
    {
      "cell_type": "markdown",
      "metadata": {
        "id": "TNXY5E9sV4t0",
        "colab_type": "text"
      },
      "source": [
        "Reset the index after grouping"
      ]
    },
    {
      "cell_type": "code",
      "metadata": {
        "id": "Vl9E_HGdQ54s",
        "colab_type": "code",
        "colab": {}
      },
      "source": [
        "df.reset_index(inplace = True)"
      ],
      "execution_count": 0,
      "outputs": []
    },
    {
      "cell_type": "markdown",
      "metadata": {
        "id": "Ya2TZiECV9Mp",
        "colab_type": "text"
      },
      "source": [
        "If the neighbourhood is not assigned,then copy the borough value to the neighbourhood"
      ]
    },
    {
      "cell_type": "code",
      "metadata": {
        "id": "DCafgWNuRVEY",
        "colab_type": "code",
        "colab": {}
      },
      "source": [
        "for i in df.index: \n",
        "    if(df['Neighbourhood'][i] == 'Not assigned') :\n",
        "      df.replace(df['Neighbourhood'][i] ,df['Borough'][i] )"
      ],
      "execution_count": 0,
      "outputs": []
    },
    {
      "cell_type": "markdown",
      "metadata": {
        "id": "Gve_ETavWE3t",
        "colab_type": "text"
      },
      "source": [
        "Use shape to determine the shape of the resulting df"
      ]
    },
    {
      "cell_type": "code",
      "metadata": {
        "id": "6hmdAgQDSCli",
        "colab_type": "code",
        "colab": {
          "base_uri": "https://localhost:8080/",
          "height": 34
        },
        "outputId": "2bd18792-6a67-429d-bd59-7f775a135b53"
      },
      "source": [
        "df.shape"
      ],
      "execution_count": 33,
      "outputs": [
        {
          "output_type": "execute_result",
          "data": {
            "text/plain": [
              "(103, 3)"
            ]
          },
          "metadata": {
            "tags": []
          },
          "execution_count": 33
        }
      ]
    },
    {
      "cell_type": "code",
      "metadata": {
        "id": "wsML-d88TkPA",
        "colab_type": "code",
        "colab": {}
      },
      "source": [
        ""
      ],
      "execution_count": 0,
      "outputs": []
    }
  ]
}